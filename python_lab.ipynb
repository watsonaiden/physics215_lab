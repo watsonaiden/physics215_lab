{
 "cells": [
  {
   "cell_type": "markdown",
   "metadata": {},
   "source": [
    "$\\cos$"
   ]
  },
  {
   "cell_type": "code",
   "execution_count": 2,
   "metadata": {},
   "outputs": [],
   "source": [
    "import numpy as np\n",
    "import math"
   ]
  },
  {
   "cell_type": "code",
   "execution_count": null,
   "metadata": {},
   "outputs": [],
   "source": [
    "def error_rule_1(constant, error):\n",
    "    return constant*error\n",
    "    "
   ]
  },
  {
   "cell_type": "code",
   "execution_count": 4,
   "metadata": {},
   "outputs": [],
   "source": [
    "# constants is a dict where values have key relating to location Q = cA^m and error is uncertainy A\n",
    "def error_rule_2(constants, error):\n",
    "    c = constants\n",
    "    return abs(c['c']*c['m']*c['A']**(c['m']-1))*error"
   ]
  },
  {
   "cell_type": "code",
   "execution_count": 3,
   "metadata": {},
   "outputs": [],
   "source": [
    "# constants dict wehre key is name using format Q = A + B .. + Z or Q = A - B\n",
    "# errors is dict where key is name uses same format above and value is uncertainy \n",
    "def error_rule_3(constants, error):\n",
    "    if len(constants) != len(error):\n",
    "        print('error dicts are required to be same length')\n",
    "        return\n",
    "    \n",
    "    total_sqrt = 0\n",
    "    for key, value in error.items():\n",
    "        total_sqrt += value**2\n",
    "    \n",
    "    return math.sqrt(total_sqrt)\n",
    "\n",
    "        \n",
    "    "
   ]
  },
  {
   "cell_type": "code",
   "execution_count": 49,
   "metadata": {},
   "outputs": [],
   "source": [
    "# Q = cA^m * B^n\n",
    "# variables is a dict key = variable in above equation, with values [value, power_value, error]\n",
    "def error_rule_4(const, variables):\n",
    "    total = const\n",
    "    error = 0\n",
    "    for key, value in variables.items():\n",
    "        # solving equation\n",
    "        total *= (value[0]**value[1])\n",
    "        # solving for part of uncertainy within sqrt\n",
    "        error += ((value[1] * value[2] / value[0]) ** 2)\n",
    "    error = math.sqrt(error)\n",
    "    return total, total*error"
   ]
  },
  {
   "cell_type": "code",
   "execution_count": 50,
   "metadata": {},
   "outputs": [
    {
     "name": "stdout",
     "output_type": "stream",
     "text": [
      "(3.6635033573070452, 0.019547768946673125)\n"
     ]
    }
   ],
   "source": [
    "# method one error calculation\n",
    "const = math.sqrt(2*9.8)\n",
    "variables_dict_1 = {}\n",
    "variables_dict_1['m+M'] = [(257.4/1000), 1, (.25/1000)]\n",
    "variables_dict_1['m'] = [(66/1000), -1, (.1/1000)]\n",
    "variables_dict_1['R'] = [(27.5/100), .5, (.25/100)]\n",
    "variables_dict_1['1-cos(theta)'] = [0.16371, .5,.0007]\n",
    "print(error_rule_4(const, variables_dict_1))"
   ]
  },
  {
   "cell_type": "markdown",
   "metadata": {},
   "source": [
    "Calculated values in *method 1* match calculated values in function"
   ]
  },
  {
   "cell_type": "code",
   "execution_count": 51,
   "metadata": {},
   "outputs": [
    {
     "name": "stdout",
     "output_type": "stream",
     "text": [
      "(3.5671800675006176, 0.030308731494307455)\n"
     ]
    }
   ],
   "source": [
    "const = math.sqrt(9.8/2)\n",
    "variables_dict_2 = {}\n",
    "variables_dict_2['x'] = [(160.26/100), 1, (1.3/100)]\n",
    "variables_dict_2['y'] = [(98.9/100), -.5, (.5/100)]\n",
    "print(error_rule_4(const, variables_dict_2))"
   ]
  },
  {
   "cell_type": "markdown",
   "metadata": {},
   "source": [
    "Calculated values in *method 2* match calculated values in function"
   ]
  },
  {
   "cell_type": "code",
   "execution_count": 48,
   "metadata": {},
   "outputs": [
    {
     "name": "stdout",
     "output_type": "stream",
     "text": [
      "uncertainy 0.073282810879294\n",
      "average 1.1166666666666667\n"
     ]
    }
   ],
   "source": [
    "# USING PYTHON FOR CALCULATIONS\n",
    "x = [1.1,1.3,1.4,0.9,0.95, 1.05]\n",
    "print('uncertainy', np.std(x)/(math.sqrt(len(x))))\n",
    "print('average', np.average(x))"
   ]
  },
  {
   "cell_type": "markdown",
   "metadata": {},
   "source": [
    "We found the average of x to be $1.12$ and we calculated the uncertainy using $$\\frac{\\sigma}{\\sqrt{6}} $$ which we found to be $0.07$"
   ]
  },
  {
   "cell_type": "markdown",
   "metadata": {},
   "source": [
    "Rule 3:\n",
    "if $ Q = cA^m $\n",
    "then\n",
    "$$ \\delta Q = cmA^{m-1}\\delta A $$"
   ]
  },
  {
   "cell_type": "markdown",
   "metadata": {},
   "source": [
    "We calculate $v_i$ in method 2 of the previous lab using the equation below\n",
    "$$ v_i = \\Delta x \\sqrt{\\frac{g}{2\\Delta y}} $$"
   ]
  },
  {
   "cell_type": "markdown",
   "metadata": {},
   "source": [
    "to calculate error in $v_i$\n",
    "$$ \\delta v_i = v_i\\sqrt{\\left(\\frac{1*\\delta (m+M)}{m+M}\\right)^2 +\\left(\\frac{-1*\\delta (m)}{m}\\right)^2 +\\left(\\frac{\\frac{1}{2}*\\delta (R)}{R}\\right)^2 +\\left(\\frac{\\frac{1}{2}*\\delta (1 - \\cos \\theta)}{(1 - \\cos \\theta)}\\right)^2}$$\n"
   ]
  },
  {
   "cell_type": "code",
   "execution_count": null,
   "metadata": {},
   "outputs": [],
   "source": []
  }
 ],
 "metadata": {
  "kernelspec": {
   "display_name": "Python 3",
   "language": "python",
   "name": "python3"
  },
  "language_info": {
   "codemirror_mode": {
    "name": "ipython",
    "version": 3
   },
   "file_extension": ".py",
   "mimetype": "text/x-python",
   "name": "python",
   "nbconvert_exporter": "python",
   "pygments_lexer": "ipython3",
   "version": "3.8.6rc1"
  }
 },
 "nbformat": 4,
 "nbformat_minor": 4
}
